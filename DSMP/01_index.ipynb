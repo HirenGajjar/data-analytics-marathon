{
 "cells": [
  {
   "cell_type": "code",
   "execution_count": 14,
   "id": "976e1cd7",
   "metadata": {},
   "outputs": [
    {
     "name": "stdout",
     "output_type": "stream",
     "text": [
      "Hello world\n"
     ]
    }
   ],
   "source": [
    "print('Hello world')"
   ]
  },
  {
   "cell_type": "markdown",
   "id": "aac8310e",
   "metadata": {},
   "source": [
    "simple\n",
    "easy to learn, read, understand and code\n",
    "design philosophy - beautiful \n",
    "well indented \n",
    "easy going \n",
    "Batteries included - hugh number of libraries + communities\n",
    "\n",
    "    \"Do not reinvented the wheel, make a car\"\n",
    "General purpose programming language\n",
    "\n",
    "python is slow - solution : numpy, pandas etc libraries\n"
   ]
  },
  {
   "cell_type": "code",
   "execution_count": 15,
   "id": "f0c94796",
   "metadata": {},
   "outputs": [
    {
     "name": "stdout",
     "output_type": "stream",
     "text": [
      "Hello world!\n"
     ]
    }
   ],
   "source": [
    "print('Hello world!')"
   ]
  },
  {
   "cell_type": "code",
   "execution_count": 16,
   "id": "34255773",
   "metadata": {},
   "outputs": [
    {
     "name": "stdout",
     "output_type": "stream",
     "text": [
      "I win.\n"
     ]
    }
   ],
   "source": [
    "print('I win.')"
   ]
  },
  {
   "cell_type": "markdown",
   "id": "8e128c93",
   "metadata": {},
   "source": [
    "case sensitive language\n"
   ]
  },
  {
   "cell_type": "code",
   "execution_count": 17,
   "id": "8128483c",
   "metadata": {},
   "outputs": [
    {
     "name": "stdout",
     "output_type": "stream",
     "text": [
      "6\n"
     ]
    }
   ],
   "source": [
    "print(6)"
   ]
  },
  {
   "cell_type": "code",
   "execution_count": 18,
   "id": "0bb35cce",
   "metadata": {},
   "outputs": [
    {
     "name": "stdout",
     "output_type": "stream",
     "text": [
      "3.4\n"
     ]
    }
   ],
   "source": [
    "print(3.4)"
   ]
  },
  {
   "cell_type": "code",
   "execution_count": 19,
   "id": "aae138a9",
   "metadata": {},
   "outputs": [
    {
     "name": "stdout",
     "output_type": "stream",
     "text": [
      "True\n"
     ]
    }
   ],
   "source": [
    "print(True)"
   ]
  },
  {
   "cell_type": "code",
   "execution_count": 20,
   "id": "2ddcdce6",
   "metadata": {},
   "outputs": [
    {
     "name": "stdout",
     "output_type": "stream",
     "text": [
      "False\n"
     ]
    }
   ],
   "source": [
    "print(False)"
   ]
  },
  {
   "cell_type": "code",
   "execution_count": 21,
   "id": "74b79e1c",
   "metadata": {},
   "outputs": [
    {
     "name": "stdout",
     "output_type": "stream",
     "text": [
      "Hello 1 2.3 False\n"
     ]
    }
   ],
   "source": [
    "print('Hello',1,2.3,False)"
   ]
  },
  {
   "cell_type": "markdown",
   "id": "d23226a0",
   "metadata": {},
   "source": [
    "sep has a default value of space"
   ]
  },
  {
   "cell_type": "code",
   "execution_count": 22,
   "id": "01503285",
   "metadata": {},
   "outputs": [
    {
     "name": "stdout",
     "output_type": "stream",
     "text": [
      "One &&&& 2 &&&& 3.4\n"
     ]
    }
   ],
   "source": [
    "print('One',2,3.4,sep=' &&&& ')"
   ]
  },
  {
   "cell_type": "code",
   "execution_count": 23,
   "id": "3852b084",
   "metadata": {},
   "outputs": [
    {
     "name": "stdout",
     "output_type": "stream",
     "text": [
      "Hello\n",
      "World\n"
     ]
    }
   ],
   "source": [
    "print('Hello')\n",
    "print('World')"
   ]
  },
  {
   "cell_type": "code",
   "execution_count": 24,
   "id": "0128ff50",
   "metadata": {},
   "outputs": [
    {
     "name": "stdout",
     "output_type": "stream",
     "text": [
      "Hellolllll0000WOlrd\n"
     ]
    }
   ],
   "source": [
    "print('Hellolllll',end='0000')\n",
    "print('WOlrd')"
   ]
  },
  {
   "cell_type": "markdown",
   "id": "cfaf9867",
   "metadata": {},
   "source": [
    "the default value of end is \\n - new line"
   ]
  },
  {
   "cell_type": "markdown",
   "id": "29ea9065",
   "metadata": {},
   "source": [
    "Python works with integer up to e power 308\n",
    "\n",
    "float - up to e power 307\n",
    "\n",
    "boolean - \n",
    "\n",
    "String\n",
    "\n",
    "complex number\n",
    "\n",
    "List\n",
    "\n",
    "tuple\n",
    "\n",
    "set\n",
    "\n",
    "dictionary"
   ]
  },
  {
   "cell_type": "code",
   "execution_count": 25,
   "id": "a1ca145e",
   "metadata": {},
   "outputs": [
    {
     "name": "stdout",
     "output_type": "stream",
     "text": [
      "8\n"
     ]
    }
   ],
   "source": [
    "print(8)"
   ]
  },
  {
   "cell_type": "code",
   "execution_count": 27,
   "id": "ebd3471c",
   "metadata": {},
   "outputs": [
    {
     "name": "stdout",
     "output_type": "stream",
     "text": [
      "800000000000000008000000000000000080000000000000000800000000000000008000000000000000080000000000000000\n"
     ]
    }
   ],
   "source": [
    "print(800000000000000008000000000000000080000000000000000800000000000000008000000000000000080000000000000000)"
   ]
  },
  {
   "cell_type": "code",
   "execution_count": 29,
   "id": "f54bf8de",
   "metadata": {},
   "outputs": [
    {
     "name": "stdout",
     "output_type": "stream",
     "text": [
      "1e+308\n"
     ]
    }
   ],
   "source": [
    "print(1e308)"
   ]
  },
  {
   "cell_type": "code",
   "execution_count": 35,
   "id": "6276c5aa",
   "metadata": {},
   "outputs": [
    {
     "name": "stdout",
     "output_type": "stream",
     "text": [
      "inf\n",
      "3.4e+307\n"
     ]
    }
   ],
   "source": [
    "print(3.4e308)\n",
    "print(3.4e307)"
   ]
  },
  {
   "cell_type": "code",
   "execution_count": 36,
   "id": "03fbe21b",
   "metadata": {},
   "outputs": [
    {
     "name": "stdout",
     "output_type": "stream",
     "text": [
      "1\n"
     ]
    }
   ],
   "source": [
    "print(True + False)"
   ]
  },
  {
   "cell_type": "code",
   "execution_count": 37,
   "id": "c793aeaa",
   "metadata": {},
   "outputs": [
    {
     "name": "stdout",
     "output_type": "stream",
     "text": [
      "String\n"
     ]
    }
   ],
   "source": [
    "print('String')"
   ]
  },
  {
   "cell_type": "code",
   "execution_count": 38,
   "id": "db336461",
   "metadata": {},
   "outputs": [
    {
     "name": "stdout",
     "output_type": "stream",
     "text": [
      "(5+6j)\n"
     ]
    }
   ],
   "source": [
    "print(5+6j)"
   ]
  },
  {
   "cell_type": "code",
   "execution_count": 40,
   "id": "177b7a6a",
   "metadata": {},
   "outputs": [
    {
     "name": "stdout",
     "output_type": "stream",
     "text": [
      "[1, 2, 3, 4]\n"
     ]
    }
   ],
   "source": [
    "print([1,2,3,4])"
   ]
  },
  {
   "cell_type": "code",
   "execution_count": 41,
   "id": "76ebbbfb",
   "metadata": {},
   "outputs": [
    {
     "name": "stdout",
     "output_type": "stream",
     "text": [
      "(1, 2, 3, 4)\n"
     ]
    }
   ],
   "source": [
    "print((1,2,3,4))"
   ]
  },
  {
   "cell_type": "code",
   "execution_count": 43,
   "id": "314c21e4",
   "metadata": {},
   "outputs": [
    {
     "name": "stdout",
     "output_type": "stream",
     "text": [
      "Set -  {1, 2, 3, 4}\n"
     ]
    }
   ],
   "source": [
    "print('Set - ',{1,2,3,4})"
   ]
  },
  {
   "cell_type": "code",
   "execution_count": 46,
   "id": "062b443d",
   "metadata": {},
   "outputs": [
    {
     "name": "stdout",
     "output_type": "stream",
     "text": [
      "Dictionary -  {'Name': 'Hiren', 'Wealth': 1e+308}\n"
     ]
    }
   ],
   "source": [
    "print('Dictionary - ', {'Name' : 'Hiren', 'Wealth' : 1e308})"
   ]
  },
  {
   "cell_type": "markdown",
   "id": "a284b0c7",
   "metadata": {},
   "source": [
    "print()\n",
    "type()"
   ]
  },
  {
   "cell_type": "code",
   "execution_count": 47,
   "id": "b6e0de69",
   "metadata": {},
   "outputs": [
    {
     "data": {
      "text/plain": [
       "bool"
      ]
     },
     "execution_count": 47,
     "metadata": {},
     "output_type": "execute_result"
    }
   ],
   "source": [
    "type(True)"
   ]
  },
  {
   "cell_type": "code",
   "execution_count": 48,
   "id": "cb9d1642",
   "metadata": {},
   "outputs": [
    {
     "data": {
      "text/plain": [
       "list"
      ]
     },
     "execution_count": 48,
     "metadata": {},
     "output_type": "execute_result"
    }
   ],
   "source": [
    "type([1,2,3])"
   ]
  },
  {
   "cell_type": "code",
   "execution_count": 49,
   "id": "89a4b5d1",
   "metadata": {},
   "outputs": [
    {
     "data": {
      "text/plain": [
       "dict"
      ]
     },
     "execution_count": 49,
     "metadata": {},
     "output_type": "execute_result"
    }
   ],
   "source": [
    "type({'a':'asd'})"
   ]
  },
  {
   "cell_type": "code",
   "execution_count": 51,
   "id": "f72892fb",
   "metadata": {},
   "outputs": [
    {
     "data": {
      "text/plain": [
       "float"
      ]
     },
     "execution_count": 51,
     "metadata": {},
     "output_type": "execute_result"
    }
   ],
   "source": [
    "type(2e308)"
   ]
  },
  {
   "cell_type": "markdown",
   "id": "3833bfb8",
   "metadata": {},
   "source": [
    "variables that we use for storing the values that varies - it can be from user or from some calculation , but most likely to change or not remaining constant (although we can put constant values in them as well)"
   ]
  },
  {
   "cell_type": "code",
   "execution_count": 52,
   "id": "d6d2bc8e",
   "metadata": {},
   "outputs": [],
   "source": [
    "name = \"Hiren\""
   ]
  },
  {
   "cell_type": "code",
   "execution_count": 53,
   "id": "807fcb78",
   "metadata": {},
   "outputs": [
    {
     "data": {
      "text/plain": [
       "'Hiren'"
      ]
     },
     "execution_count": 53,
     "metadata": {},
     "output_type": "execute_result"
    }
   ],
   "source": [
    "name"
   ]
  },
  {
   "cell_type": "code",
   "execution_count": 54,
   "id": "d9753748",
   "metadata": {},
   "outputs": [
    {
     "name": "stdout",
     "output_type": "stream",
     "text": [
      "Hiren\n"
     ]
    }
   ],
   "source": [
    "print(name)"
   ]
  },
  {
   "cell_type": "code",
   "execution_count": 55,
   "id": "566b617f",
   "metadata": {},
   "outputs": [
    {
     "name": "stdout",
     "output_type": "stream",
     "text": [
      "\n"
     ]
    },
    {
     "data": {
      "text/plain": [
       "NoneType"
      ]
     },
     "execution_count": 55,
     "metadata": {},
     "output_type": "execute_result"
    }
   ],
   "source": [
    "type(print())"
   ]
  },
  {
   "cell_type": "markdown",
   "id": "df20038d",
   "metadata": {},
   "source": [
    "Dynamic Typing - In other languages we need to declare the data type of the variable , but not in python\n",
    "\n",
    "Static Typing - We need to declare the data type like c, cpp , java\n",
    "\n",
    "Dynamic Binding - we created a variable age and gave it a numeric value then we gave it a string value, python support both and it changes the values and type at the run time of program\n",
    "\n",
    "Static Binding - Once we declare the variable with its data type explicitly in languages like c, cpp, java it only holds the values of same data types "
   ]
  },
  {
   "cell_type": "code",
   "execution_count": 58,
   "id": "b274c276",
   "metadata": {},
   "outputs": [
    {
     "name": "stdout",
     "output_type": "stream",
     "text": [
      "12\n",
      "<class 'int'>\n",
      "Hiren\n",
      "<class 'str'>\n"
     ]
    }
   ],
   "source": [
    "age = 12\n",
    "\n",
    "print(age)\n",
    "print(type(age))\n",
    "\n",
    "age = 'Hiren'\n",
    "\n",
    "print(age)\n",
    "print(type(age))"
   ]
  },
  {
   "cell_type": "code",
   "execution_count": 59,
   "id": "6d2b655e",
   "metadata": {},
   "outputs": [
    {
     "name": "stdout",
     "output_type": "stream",
     "text": [
      "4 5 6\n"
     ]
    }
   ],
   "source": [
    "a= 4\n",
    "b = 5\n",
    "c= 6\n",
    "\n",
    "print(a,b,c)"
   ]
  },
  {
   "cell_type": "code",
   "execution_count": 60,
   "id": "fe8369ce",
   "metadata": {},
   "outputs": [],
   "source": [
    "a,b,c = 3,4,5"
   ]
  },
  {
   "cell_type": "code",
   "execution_count": 61,
   "id": "6a3d642a",
   "metadata": {},
   "outputs": [
    {
     "name": "stdout",
     "output_type": "stream",
     "text": [
      "3 4 5\n"
     ]
    }
   ],
   "source": [
    "print(a,b,c)"
   ]
  },
  {
   "cell_type": "code",
   "execution_count": 64,
   "id": "21334e21",
   "metadata": {},
   "outputs": [
    {
     "name": "stdout",
     "output_type": "stream",
     "text": [
      "9 18 18\n"
     ]
    }
   ],
   "source": [
    "a = b= c =9\n",
    "print(a,b+c,c+a)"
   ]
  },
  {
   "cell_type": "code",
   "execution_count": 66,
   "id": "582ac9aa",
   "metadata": {},
   "outputs": [
    {
     "data": {
      "text/plain": [
       "' \\ntwo \\nliner\\n\\n'"
      ]
     },
     "execution_count": 66,
     "metadata": {},
     "output_type": "execute_result"
    }
   ],
   "source": [
    "# One liner\n",
    "\n"
   ]
  },
  {
   "cell_type": "code",
   "execution_count": 70,
   "id": "f68bffa6",
   "metadata": {},
   "outputs": [
    {
     "name": "stdout",
     "output_type": "stream",
     "text": [
      "['False', 'None', 'True', 'and', 'as', 'assert', 'async', 'await', 'break', 'class', 'continue', 'def', 'del', 'elif', 'else', 'except', 'finally', 'for', 'from', 'global', 'if', 'import', 'in', 'is', 'lambda', 'nonlocal', 'not', 'or', 'pass', 'raise', 'return', 'try', 'while', 'with', 'yield']\n"
     ]
    }
   ],
   "source": [
    "import keyword\n",
    "print(keyword.kwlist)"
   ]
  },
  {
   "cell_type": "markdown",
   "id": "68377f7e",
   "metadata": {},
   "source": [
    "identifiers\n",
    "\n",
    "- reserved keywords cannot be used as an identifiers\n",
    "- do not start with digit\n",
    "- uppercase and lowercase\n",
    "- _ is the only character that is allowed"
   ]
  },
  {
   "cell_type": "code",
   "execution_count": 71,
   "id": "2e7c2d54",
   "metadata": {},
   "outputs": [
    {
     "ename": "SyntaxError",
     "evalue": "invalid decimal literal (524203832.py, line 1)",
     "output_type": "error",
     "traceback": [
      "  \u001b[36mCell\u001b[39m\u001b[36m \u001b[39m\u001b[32mIn[71]\u001b[39m\u001b[32m, line 1\u001b[39m\n\u001b[31m    \u001b[39m\u001b[31m1name = 'haha'\u001b[39m\n    ^\n\u001b[31mSyntaxError\u001b[39m\u001b[31m:\u001b[39m invalid decimal literal\n"
     ]
    }
   ],
   "source": [
    "1name = 'haha'"
   ]
  },
  {
   "cell_type": "code",
   "execution_count": 72,
   "id": "0620c2bd",
   "metadata": {},
   "outputs": [],
   "source": [
    "name1= 'haha'"
   ]
  },
  {
   "cell_type": "code",
   "execution_count": 73,
   "id": "a137c576",
   "metadata": {},
   "outputs": [
    {
     "data": {
      "text/plain": [
       "'haha'"
      ]
     },
     "execution_count": 73,
     "metadata": {},
     "output_type": "execute_result"
    }
   ],
   "source": [
    "name1"
   ]
  },
  {
   "cell_type": "code",
   "execution_count": 74,
   "id": "38e7ff06",
   "metadata": {},
   "outputs": [],
   "source": [
    "first_name = 'Hiren'"
   ]
  },
  {
   "cell_type": "code",
   "execution_count": 75,
   "id": "2943cc99",
   "metadata": {},
   "outputs": [
    {
     "data": {
      "text/plain": [
       "'Hiren'"
      ]
     },
     "execution_count": 75,
     "metadata": {},
     "output_type": "execute_result"
    }
   ],
   "source": [
    "first_name"
   ]
  },
  {
   "cell_type": "code",
   "execution_count": 76,
   "id": "9eb4f579",
   "metadata": {},
   "outputs": [],
   "source": [
    "_ = 'name is _'"
   ]
  },
  {
   "cell_type": "code",
   "execution_count": 77,
   "id": "f9c158bc",
   "metadata": {},
   "outputs": [
    {
     "data": {
      "text/plain": [
       "'name is _'"
      ]
     },
     "execution_count": 77,
     "metadata": {},
     "output_type": "execute_result"
    }
   ],
   "source": [
    "_"
   ]
  },
  {
   "cell_type": "markdown",
   "id": "69436d3c",
   "metadata": {},
   "source": [
    "static softwares - just informative , clock (not alarm) , most of the blogs\n",
    "\n",
    "dynamics softwares - youtube, ola, uber, zomato - takes the input - process - gives the result "
   ]
  },
  {
   "cell_type": "code",
   "execution_count": 78,
   "id": "bcf2cfb1",
   "metadata": {},
   "outputs": [
    {
     "data": {
      "text/plain": [
       "'asd'"
      ]
     },
     "execution_count": 78,
     "metadata": {},
     "output_type": "execute_result"
    }
   ],
   "source": [
    "input()"
   ]
  },
  {
   "cell_type": "code",
   "execution_count": 79,
   "id": "0e68c462",
   "metadata": {},
   "outputs": [
    {
     "data": {
      "text/plain": [
       "'naam nai bataunga'"
      ]
     },
     "execution_count": 79,
     "metadata": {},
     "output_type": "execute_result"
    }
   ],
   "source": [
    "input('naam bata ')"
   ]
  },
  {
   "cell_type": "code",
   "execution_count": 87,
   "id": "67a938f2",
   "metadata": {},
   "outputs": [
    {
     "name": "stdout",
     "output_type": "stream",
     "text": [
      "7\n"
     ]
    }
   ],
   "source": [
    "fn  = int(input('enter the first number : '))\n",
    "sn  = int(input('enter the second number : '))\n",
    "result = fn + sn\n",
    "print(result)"
   ]
  },
  {
   "cell_type": "markdown",
   "id": "a7ba9e57",
   "metadata": {},
   "source": [
    "type conversion\n",
    "\n",
    "implicit - by the interpreter \n",
    "\n",
    "explicitly - by the programmer using few functions/methods \n",
    "\n",
    "int() , str()\n",
    "\n",
    "- we cannot convert complex number to int or float\n",
    "\n",
    "\n",
    "Although python type conversation does not changes the original value, rather it creates the copy "
   ]
  },
  {
   "cell_type": "code",
   "execution_count": 88,
   "id": "e9b27541",
   "metadata": {},
   "outputs": [
    {
     "name": "stdout",
     "output_type": "stream",
     "text": [
      "10.6\n"
     ]
    }
   ],
   "source": [
    "print(5 + 5.6)"
   ]
  },
  {
   "cell_type": "code",
   "execution_count": 91,
   "id": "8416c7a8",
   "metadata": {},
   "outputs": [
    {
     "ename": "TypeError",
     "evalue": "can only concatenate str (not \"int\") to str",
     "output_type": "error",
     "traceback": [
      "\u001b[31m---------------------------------------------------------------------------\u001b[39m",
      "\u001b[31mTypeError\u001b[39m                                 Traceback (most recent call last)",
      "\u001b[36mCell\u001b[39m\u001b[36m \u001b[39m\u001b[32mIn[91]\u001b[39m\u001b[32m, line 1\u001b[39m\n\u001b[32m----> \u001b[39m\u001b[32m1\u001b[39m \u001b[38;5;28mprint\u001b[39m(\u001b[33;43m'\u001b[39;49m\u001b[33;43mHiren\u001b[39;49m\u001b[33;43m'\u001b[39;49m\u001b[43m \u001b[49m\u001b[43m+\u001b[49m\u001b[43m \u001b[49m\u001b[32;43m3\u001b[39;49m)\n\u001b[32m      2\u001b[39m \u001b[38;5;28mprint\u001b[39m(\u001b[33m'\u001b[39m\u001b[33mHiren\u001b[39m\u001b[33m'\u001b[39m + \u001b[38;5;28mstr\u001b[39m(\u001b[32m3\u001b[39m))\n",
      "\u001b[31mTypeError\u001b[39m: can only concatenate str (not \"int\") to str"
     ]
    }
   ],
   "source": [
    "print('Hiren' + 3)\n",
    "print('Hiren' + str(3))"
   ]
  },
  {
   "cell_type": "code",
   "execution_count": 94,
   "id": "c11a0646",
   "metadata": {},
   "outputs": [
    {
     "ename": "TypeError",
     "evalue": "float() argument must be a string or a real number, not 'complex'",
     "output_type": "error",
     "traceback": [
      "\u001b[31m---------------------------------------------------------------------------\u001b[39m",
      "\u001b[31mTypeError\u001b[39m                                 Traceback (most recent call last)",
      "\u001b[36mCell\u001b[39m\u001b[36m \u001b[39m\u001b[32mIn[94]\u001b[39m\u001b[32m, line 2\u001b[39m\n\u001b[32m      1\u001b[39m \u001b[38;5;66;03m#print(3 + int(5+6j))\u001b[39;00m\n\u001b[32m----> \u001b[39m\u001b[32m2\u001b[39m \u001b[38;5;28mprint\u001b[39m(\u001b[32m3\u001b[39m + \u001b[38;5;28;43mfloat\u001b[39;49m\u001b[43m(\u001b[49m\u001b[32;43m5\u001b[39;49m\u001b[43m+\u001b[49m\u001b[32;43m6\u001b[39;49m\u001b[43mj\u001b[49m\u001b[43m)\u001b[49m)\n",
      "\u001b[31mTypeError\u001b[39m: float() argument must be a string or a real number, not 'complex'"
     ]
    }
   ],
   "source": [
    "print(3 + int(5+6j))\n",
    "print(3 + float(5+6j))"
   ]
  },
  {
   "cell_type": "code",
   "execution_count": 97,
   "id": "59edbe14",
   "metadata": {},
   "outputs": [
    {
     "name": "stdout",
     "output_type": "stream",
     "text": [
      "True\n"
     ]
    }
   ],
   "source": [
    "print(bool(1))"
   ]
  },
  {
   "cell_type": "code",
   "execution_count": 101,
   "id": "cdd37ccc",
   "metadata": {},
   "outputs": [
    {
     "name": "stdout",
     "output_type": "stream",
     "text": [
      "<class 'str'>\n",
      "<class 'int'>\n"
     ]
    }
   ],
   "source": [
    "aa = input('ad num - ')\n",
    "print(type(aa))\n",
    "\n",
    "\n",
    "print(type(int(aa)))"
   ]
  },
  {
   "cell_type": "markdown",
   "id": "4b15cb08",
   "metadata": {},
   "source": [
    "Literals - the values we store in variables \n",
    "\n",
    "age = 12 where age is variable , = is operator, 12 is literal "
   ]
  },
  {
   "cell_type": "code",
   "execution_count": 102,
   "id": "77c13669",
   "metadata": {},
   "outputs": [
    {
     "name": "stdout",
     "output_type": "stream",
     "text": [
      "boolean literal  10\n"
     ]
    }
   ],
   "source": [
    "bool_lit = 0b1010\n",
    "print('boolean literal ' ,bool_lit)"
   ]
  },
  {
   "cell_type": "code",
   "execution_count": 103,
   "id": "272e90e3",
   "metadata": {},
   "outputs": [
    {
     "name": "stdout",
     "output_type": "stream",
     "text": [
      "decimal literal 300\n"
     ]
    }
   ],
   "source": [
    "decimal_lit = 300\n",
    "\n",
    "print('decimal literal' ,decimal_lit)"
   ]
  },
  {
   "cell_type": "code",
   "execution_count": 106,
   "id": "1b4d282d",
   "metadata": {},
   "outputs": [
    {
     "name": "stdout",
     "output_type": "stream",
     "text": [
      "complex literal =  (4+5.6j)\n",
      "4.0\n",
      "5.6\n"
     ]
    }
   ],
   "source": [
    "complex_lit = 4+5.6j\n",
    "\n",
    "print('complex literal = ',complex_lit)\n",
    "\n",
    "print(complex_lit.real)\n",
    "print(complex_lit.imag)"
   ]
  },
  {
   "cell_type": "markdown",
   "id": "24df8981",
   "metadata": {},
   "source": [
    "python consider 0 as a false and \n",
    "any none zero a true"
   ]
  },
  {
   "cell_type": "code",
   "execution_count": 108,
   "id": "fe609107",
   "metadata": {},
   "outputs": [
    {
     "name": "stdout",
     "output_type": "stream",
     "text": [
      "5\n",
      "9\n"
     ]
    }
   ],
   "source": [
    "print(True + 4)\n",
    "print(10 - True + False)"
   ]
  },
  {
   "cell_type": "markdown",
   "id": "a1a64d1a",
   "metadata": {},
   "source": [
    "None is useful if we want to declare the variable without using it at the same moment, we can use None as a value and we do not have to use it immediately"
   ]
  },
  {
   "cell_type": "code",
   "execution_count": null,
   "id": "e98f52ca",
   "metadata": {},
   "outputs": [],
   "source": []
  }
 ],
 "metadata": {
  "kernelspec": {
   "display_name": "Python 3",
   "language": "python",
   "name": "python3"
  },
  "language_info": {
   "codemirror_mode": {
    "name": "ipython",
    "version": 3
   },
   "file_extension": ".py",
   "mimetype": "text/x-python",
   "name": "python",
   "nbconvert_exporter": "python",
   "pygments_lexer": "ipython3",
   "version": "3.13.3"
  }
 },
 "nbformat": 4,
 "nbformat_minor": 5
}
