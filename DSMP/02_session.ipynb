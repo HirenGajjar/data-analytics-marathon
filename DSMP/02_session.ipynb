{
 "cells": [
  {
   "cell_type": "markdown",
   "id": "7fc2c69c",
   "metadata": {},
   "source": [
    "// integer division - if we do 5/2 then it is 2.5 but if we do 5//2 then it gives 2\n",
    "\n",
    "\n",
    "** power operator - 5**2 will do 5 x 5"
   ]
  },
  {
   "cell_type": "code",
   "execution_count": null,
   "id": "980125a8",
   "metadata": {},
   "outputs": [],
   "source": []
  },
  {
   "cell_type": "code",
   "execution_count": 31,
   "id": "98b8b1ad",
   "metadata": {},
   "outputs": [
    {
     "name": "stdout",
     "output_type": "stream",
     "text": [
      "11\n",
      "-1\n",
      "30\n",
      "0.8333333333333334\n",
      "0\n",
      "1\n",
      "25\n"
     ]
    }
   ],
   "source": [
    "print(5+6)\n",
    "print(5-6)\n",
    "print(5*6)\n",
    "print(5/6)\n",
    "print(5//6)\n",
    "print(5%2)\n",
    "print(5**2)"
   ]
  },
  {
   "cell_type": "code",
   "execution_count": 32,
   "id": "6f835287",
   "metadata": {},
   "outputs": [
    {
     "name": "stdout",
     "output_type": "stream",
     "text": [
      "False\n",
      "True\n",
      "True\n",
      "False\n",
      "False\n",
      "True\n"
     ]
    }
   ],
   "source": [
    "print(4 < 3)\n",
    "print(4 > 3)\n",
    "print(4 >= 3)\n",
    "print(4 <= 3)\n",
    "print(4 == 3)\n",
    "print(4 != 3)"
   ]
  },
  {
   "cell_type": "code",
   "execution_count": 13,
   "id": "68273690",
   "metadata": {},
   "outputs": [
    {
     "name": "stdout",
     "output_type": "stream",
     "text": [
      "False\n",
      "1\n",
      "0\n",
      "0\n",
      "True\n"
     ]
    }
   ],
   "source": [
    "print(True and False)\n",
    "print(1 and 1)\n",
    "print(0 and 0)\n",
    "print(0 or 0)\n",
    "print(not False)"
   ]
  },
  {
   "cell_type": "markdown",
   "id": "71d2225b",
   "metadata": {},
   "source": [
    "when we do 2 & 3 means\n",
    "binary of 2 (10) and binary of 3 (11) are getting AND operation\n",
    "\n",
    "10\n",
    "11\n",
    "-----\n",
    "10 means 2\n",
    "\n",
    "similarly for 2 | 3\n",
    "\n",
    "10\n",
    "11\n",
    "-------\n",
    "11 As 1 OR 0 is 1 and 1 OR 1 is also 1 and 11 is 3\n",
    "\n"
   ]
  },
  {
   "cell_type": "code",
   "execution_count": 20,
   "id": "cafefda2",
   "metadata": {},
   "outputs": [
    {
     "name": "stdout",
     "output_type": "stream",
     "text": [
      "2\n",
      "3\n",
      "1\n",
      "-4\n",
      "1\n",
      "16\n"
     ]
    }
   ],
   "source": [
    "print(2 & 3 )\n",
    "print(2 | 3 )\n",
    "print(2 ^ 3 )\n",
    "print(~3)\n",
    "print(4 >> 2)\n",
    "print(4 << 2)"
   ]
  },
  {
   "cell_type": "markdown",
   "id": "ca81a398",
   "metadata": {},
   "source": [
    "assignment operator is used in creating variables\n",
    "\n",
    "also we use for += or -= or *= or /="
   ]
  },
  {
   "cell_type": "markdown",
   "id": "63dffbb1",
   "metadata": {},
   "source": [
    "Membership operator in/not in"
   ]
  },
  {
   "cell_type": "code",
   "execution_count": 24,
   "id": "9ebcc990",
   "metadata": {},
   "outputs": [
    {
     "name": "stdout",
     "output_type": "stream",
     "text": [
      "True\n"
     ]
    }
   ],
   "source": [
    "print('de' in 'delhi')"
   ]
  },
  {
   "cell_type": "code",
   "execution_count": 25,
   "id": "0be5302e",
   "metadata": {},
   "outputs": [
    {
     "name": "stdout",
     "output_type": "stream",
     "text": [
      "True\n"
     ]
    }
   ],
   "source": [
    "print('D' not in 'Kalol')"
   ]
  },
  {
   "cell_type": "code",
   "execution_count": 27,
   "id": "b6598451",
   "metadata": {},
   "outputs": [
    {
     "name": "stdout",
     "output_type": "stream",
     "text": [
      "True\n"
     ]
    }
   ],
   "source": [
    "print(1 in [1,1,1,1,2,3,4,5])"
   ]
  },
  {
   "cell_type": "markdown",
   "id": "4bf6bea9",
   "metadata": {},
   "source": [
    "find the sum of 3 digits from the number given by user using operators"
   ]
  },
  {
   "cell_type": "code",
   "execution_count": 35,
   "id": "7a198ade",
   "metadata": {},
   "outputs": [
    {
     "name": "stdout",
     "output_type": "stream",
     "text": [
      "Sum of all digits is =  15\n"
     ]
    }
   ],
   "source": [
    "num = int(input('Enter the three digit number = '))\n",
    "print('Sum of all digits is = ' ,(num%10) + ((num // 10) % 10) + (((num // 10) //10 ) % 10) )\n"
   ]
  },
  {
   "cell_type": "markdown",
   "id": "42494456",
   "metadata": {},
   "source": [
    "using if else lets make simple login app \n",
    "\n",
    "id - test@gmail.com (any other email is wrong)\n",
    "password - 1234"
   ]
  },
  {
   "cell_type": "markdown",
   "id": "169eb824",
   "metadata": {},
   "source": [
    "if else\n",
    "elif\n",
    ": and indentations\n",
    "nested if else"
   ]
  },
  {
   "cell_type": "code",
   "execution_count": 42,
   "id": "ce3725bf",
   "metadata": {},
   "outputs": [
    {
     "name": "stdout",
     "output_type": "stream",
     "text": [
      "Welcome!\n"
     ]
    }
   ],
   "source": [
    "email = input('Enter the email address :')\n",
    "password = input('Enter the password :')\n",
    "\n",
    "if(email == 'test@gmail.com' and password == '1234'):\n",
    "    print('Welcome!')\n",
    "elif(email != 'test@gmail.com'):\n",
    "    print('Invalid email address!')\n",
    "elif(password != '1234'):\n",
    "    print('Incorrect password!')\n",
    "else:\n",
    "    print('Invalid email address and password')"
   ]
  },
  {
   "cell_type": "markdown",
   "id": "92252329",
   "metadata": {},
   "source": [
    "find the min from 3 numbers give by user"
   ]
  },
  {
   "cell_type": "code",
   "execution_count": 47,
   "id": "aa22a85b",
   "metadata": {},
   "outputs": [],
   "source": [
    "a = int(input('Enter the value of a'))\n",
    "b = int(input('Enter the value of b'))\n",
    "c = int(input('Enter the value of c'))\n",
    "\n",
    "if(a > b and a > c):\n",
    "    if(b > c):\n",
    "        print(c,' is the min')\n",
    "    else:\n",
    "        print(b, ' is the min')\n",
    "elif(b > a and b > c):\n",
    "    if(a >c):\n",
    "        print(c, ' is the min') \n",
    "    else:\n",
    "        print(a, ' is the min')\n",
    "elif(c > a and c > b):\n",
    "    if(a > b):\n",
    "        print(b, ' is the min')\n",
    "    else:\n",
    "        print(a, ' is the min')\n"
   ]
  },
  {
   "cell_type": "markdown",
   "id": "82948521",
   "metadata": {},
   "source": [
    "menu driven calculator"
   ]
  },
  {
   "cell_type": "code",
   "execution_count": 53,
   "id": "86284b17",
   "metadata": {},
   "outputs": [
    {
     "name": "stdout",
     "output_type": "stream",
     "text": [
      "Invalid operation!!\n"
     ]
    }
   ],
   "source": [
    "a = int(input('Enter the first number'))\n",
    "b = int(input('Enter the second number'))\n",
    "\n",
    "op = input('Select the input :')\n",
    "\n",
    "if(op == '+'):\n",
    "    print(a, ' + ', b , ' = ', a+b)\n",
    "elif(op == '-'):\n",
    "    print(a, ' - ', b , ' = ', a-b)\n",
    "elif(op == '/'):\n",
    "    print(a, ' / ', b , ' = ', a/b)\n",
    "elif(op == '*'):\n",
    "    print(a, ' * ', b , ' = ', a*b)\n",
    "elif(op == '%'):\n",
    "    print(a, ' % ', b , ' = ', a%b)\n",
    "else:\n",
    "    print('Invalid operation!!')"
   ]
  },
  {
   "cell_type": "markdown",
   "id": "03588b49",
   "metadata": {},
   "source": [
    "modules - code reusability , \n",
    "\n",
    "math - factorial(), floor()\n",
    "\n",
    "keywords\n",
    "\n",
    "random\n",
    "\n",
    "datetime"
   ]
  },
  {
   "cell_type": "code",
   "execution_count": 62,
   "id": "fb47e63e",
   "metadata": {},
   "outputs": [],
   "source": [
    "import keyword\n",
    "import math\n",
    "import random"
   ]
  },
  {
   "cell_type": "code",
   "execution_count": 61,
   "id": "8fc41bc0",
   "metadata": {},
   "outputs": [
    {
     "name": "stdout",
     "output_type": "stream",
     "text": [
      "24\n",
      "4\n",
      "['False', 'None', 'True', 'and', 'as', 'assert', 'async', 'await', 'break', 'class', 'continue', 'def', 'del', 'elif', 'else', 'except', 'finally', 'for', 'from', 'global', 'if', 'import', 'in', 'is', 'lambda', 'nonlocal', 'not', 'or', 'pass', 'raise', 'return', 'try', 'while', 'with', 'yield']\n"
     ]
    }
   ],
   "source": [
    "print(math.factorial(4))\n",
    "print(math.floor(4.4))\n",
    "print(keyword.kwlist)"
   ]
  },
  {
   "cell_type": "code",
   "execution_count": 63,
   "id": "d596284b",
   "metadata": {},
   "outputs": [
    {
     "name": "stdout",
     "output_type": "stream",
     "text": [
      "52\n"
     ]
    }
   ],
   "source": [
    "print(random.randint(1,100))"
   ]
  },
  {
   "cell_type": "code",
   "execution_count": 66,
   "id": "96119be0",
   "metadata": {},
   "outputs": [
    {
     "name": "stdout",
     "output_type": "stream",
     "text": [
      "2025-09-24 23:54:20.562027\n"
     ]
    }
   ],
   "source": [
    "import datetime\n",
    "\n",
    "print(datetime.datetime.now())"
   ]
  },
  {
   "cell_type": "code",
   "execution_count": 69,
   "id": "6cba696a",
   "metadata": {},
   "outputs": [
    {
     "name": "stdout",
     "output_type": "stream",
     "text": [
      "\n",
      "Please wait a moment while I gather a list of all available modules...\n",
      "\n",
      "IPython             _testclinic_limited graphlib            re\n",
      "PIL                 _testexternalinspection grp                 readline\n",
      "__future__          _testimportmultiple gzip                reprlib\n",
      "__hello__           _testinternalcapi   hashlib             requests\n",
      "__phello__          _testlimitedcapi    heapq               resource\n",
      "_abc                _testmultiphase     hmac                rlcompleter\n",
      "_aix_support        _testsinglephase    html                runpy\n",
      "_android_support    _thread             http                sched\n",
      "_apple_support      _threading_local    idlelib             scipy\n",
      "_ast                _tkinter            idna                seaborn\n",
      "_asyncio            _tokenize           imaplib             secrets\n",
      "_bisect             _tracemalloc        importlib           select\n",
      "_blake2             _typing             inspect             selectors\n",
      "_bz2                _uuid               instaloader         shelve\n",
      "_codecs             _warnings           io                  shlex\n",
      "_codecs_cn          _weakref            ipaddress           shutil\n",
      "_codecs_hk          _weakrefset         ipykernel           signal\n",
      "_codecs_iso2022     _xxtestfuzz         ipykernel_launcher  site\n",
      "_codecs_jp          _zoneinfo           ipython_pygments_lexers six\n",
      "_codecs_kr          abc                 itertools           sklearn\n",
      "_codecs_tw          antigravity         jedi                smtplib\n",
      "_collections        appnope             joblib              socket\n",
      "_collections_abc    argparse            json                socketserver\n",
      "_colorize           array               jupyter             sqlite3\n",
      "_compat_pickle      ast                 jupyter_client      sre_compile\n",
      "_compression        asttokens           jupyter_core        sre_constants\n",
      "_contextvars        asyncio             keyword             sre_parse\n",
      "_csv                atexit              kiwisolver          ssl\n",
      "_ctypes             base64              linecache           stack_data\n",
      "_ctypes_test        bdb                 locale              stat\n",
      "_curses             binascii            logging             statistics\n",
      "_curses_panel       bisect              lzma                statsmodels\n",
      "_datetime           builtins            mailbox             string\n",
      "_dbm                bz2                 marshal             stringprep\n",
      "_decimal            cProfile            math                struct\n",
      "_elementtree        calendar            matplotlib          subprocess\n",
      "_functools          certifi             matplotlib_inline   symtable\n",
      "_hashlib            charset_normalizer  mimetypes           sys\n",
      "_heapq              cmath               mmap                sysconfig\n",
      "_imp                cmd                 modulefinder        syslog\n",
      "_interpchannels     code                multiprocessing     tabnanny\n",
      "_interpqueues       codecs              nest_asyncio        tarfile\n",
      "_interpreters       codeop              netrc               tempfile\n",
      "_io                 collections         ntpath              termios\n",
      "_ios_support        colorsys            nturl2path          test\n",
      "_json               comm                numbers             textwrap\n",
      "_locale             compileall          numpy               this\n",
      "_lsprof             concurrent          opcode              threading\n",
      "_lzma               configparser        openpyxl            threadpoolctl\n",
      "_markupbase         contextlib          operator            time\n",
      "_md5                contextvars         optparse            timeit\n",
      "_multibytecodec     contourpy           os                  tkinter\n",
      "_multiprocessing    copy                packaging           token\n",
      "_opcode             copyreg             pandas              tokenize\n",
      "_opcode_metadata    csv                 parso               tomllib\n",
      "_operator           ctypes              pathlib             tornado\n",
      "_osx_support        curses              patsy               trace\n",
      "_pickle             cycler              pdb                 traceback\n",
      "_posixshmem         dataclasses         pexpect             tracemalloc\n",
      "_posixsubprocess    datetime            pickle              traitlets\n",
      "_py_abc             dateutil            pickletools         tty\n",
      "_pydatetime         dbm                 pip                 turtle\n",
      "_pydecimal          debugpy             pkgutil             turtledemo\n",
      "_pyio               decimal             platform            types\n",
      "_pylong             decorator           platformdirs        typing\n",
      "_pyrepl             difflib             plistlib            tzdata\n",
      "_queue              dis                 poplib              unicodedata\n",
      "_random             doctest             posix               unittest\n",
      "_scproxy            email               posixpath           urllib\n",
      "_sha1               encodings           pprint              urllib3\n",
      "_sha2               ensurepip           profile             uuid\n",
      "_sha3               enum                prompt_toolkit      venv\n",
      "_signal             errno               pstats              warnings\n",
      "_sitebuiltins       et_xmlfile          psutil              wave\n",
      "_socket             executing           pty                 wcwidth\n",
      "_sqlite3            faulthandler        ptyprocess          weakref\n",
      "_sre                fcntl               pure_eval           webbrowser\n",
      "_ssl                filecmp             pwd                 wsgiref\n",
      "_stat               fileinput           py_compile          xml\n",
      "_statistics         fnmatch             pyclbr              xmlrpc\n",
      "_string             fontTools           pydoc               xxlimited\n",
      "_strptime           fractions           pydoc_data          xxlimited_35\n",
      "_struct             ftplib              pyexpat             xxsubtype\n",
      "_suggestions        functools           pygments            zipapp\n",
      "_symtable           gc                  pylab               zipfile\n",
      "_sysconfig          genericpath         pyparsing           zipimport\n",
      "_sysconfigdata__darwin_darwin getopt              pytz                zlib\n",
      "_testbuffer         getpass             queue               zmq\n",
      "_testcapi           gettext             quopri              zoneinfo\n",
      "_testclinic         glob                random              \n",
      "\n",
      "Enter any module name to get more help.  Or, type \"modules spam\" to search\n",
      "for modules whose name or summary contain the string \"spam\".\n",
      "\n"
     ]
    }
   ],
   "source": [
    "help('modules')"
   ]
  },
  {
   "cell_type": "markdown",
   "id": "14ac8573",
   "metadata": {},
   "source": [
    "loops\n",
    "while and for"
   ]
  },
  {
   "cell_type": "code",
   "execution_count": 70,
   "id": "f5bee907",
   "metadata": {},
   "outputs": [
    {
     "name": "stdout",
     "output_type": "stream",
     "text": [
      "3\n",
      "6\n",
      "9\n",
      "12\n",
      "15\n",
      "18\n",
      "21\n",
      "24\n",
      "27\n",
      "30\n"
     ]
    }
   ],
   "source": [
    "num = int(input('Enter the number : '))\n",
    "i = 1\n",
    "while i< 11:\n",
    "    print(num * i)\n",
    "    i +=1"
   ]
  },
  {
   "cell_type": "code",
   "execution_count": 71,
   "id": "9214366b",
   "metadata": {},
   "outputs": [
    {
     "name": "stdout",
     "output_type": "stream",
     "text": [
      "1\n",
      "2\n",
      "Done\n"
     ]
    }
   ],
   "source": [
    "x = 1\n",
    "while x < 3:\n",
    "    print(x)\n",
    "    x +=1\n",
    "else:\n",
    "    print('Done')"
   ]
  },
  {
   "cell_type": "code",
   "execution_count": null,
   "id": "699adfe4",
   "metadata": {},
   "outputs": [
    {
     "name": "stdout",
     "output_type": "stream",
     "text": [
      "Oops!! The number you selected is greater. Try again!\n",
      "Oops!! The number you selected is lesser. Try again!\n",
      "Bingo!!!!!! Congratulations!\n",
      "You took  3  attempt!\n"
     ]
    }
   ],
   "source": [
    "jackpot_number = 33\n",
    "\n",
    "guess_the_number = int(input('Enter the number :'))\n",
    "attempts = 1\n",
    "while guess_the_number != jackpot_number:\n",
    "    if guess_the_number < jackpot_number :\n",
    "            print('Oops!! The number you selected is lesser. Try again!')\n",
    "    elif guess_the_number > jackpot_number:\n",
    "            print('Oops!! The number you selected is greater. Try again!')\n",
    "\n",
    "    guess_the_number = int(input('Enter the number :'))\n",
    "\n",
    "    \n",
    "    attempts +=1\n",
    "else:\n",
    "       print('Bingo!!!!!! Congratulations!')\n",
    "       print('You took ',attempts,' attempt!')\n",
    "\n"
   ]
  },
  {
   "cell_type": "markdown",
   "id": "4ebbef37",
   "metadata": {},
   "source": [
    "range(start,end,step-size) - first one is included, last one is excluded\n",
    "\n",
    "if we do range(1,4) that is same as 1,2,3\n",
    "\n",
    "now we can give it the step size"
   ]
  },
  {
   "cell_type": "code",
   "execution_count": 81,
   "id": "ab19626a",
   "metadata": {},
   "outputs": [
    {
     "name": "stdout",
     "output_type": "stream",
     "text": [
      "1\n",
      "3\n",
      "5\n",
      "7\n",
      "9\n"
     ]
    }
   ],
   "source": [
    "for i in range (1,11,2):\n",
    "    print(i)"
   ]
  },
  {
   "cell_type": "markdown",
   "id": "7ef44687",
   "metadata": {},
   "source": [
    "write a for loop to print the numbers from 10 to 0 with jump of 2 : 10 8 6 4 2\n",
    "\n"
   ]
  },
  {
   "cell_type": "code",
   "execution_count": 83,
   "id": "609a3289",
   "metadata": {},
   "outputs": [
    {
     "name": "stdout",
     "output_type": "stream",
     "text": [
      "10\n",
      "8\n",
      "6\n",
      "4\n",
      "2\n"
     ]
    }
   ],
   "source": [
    "for i in range(10,0,-2):\n",
    "    print(i)"
   ]
  },
  {
   "cell_type": "markdown",
   "id": "bfb54dc3",
   "metadata": {},
   "source": [
    "we can use for loop on string, tuple, set ,dictionary, array "
   ]
  },
  {
   "cell_type": "code",
   "execution_count": 84,
   "id": "83056786",
   "metadata": {},
   "outputs": [
    {
     "name": "stdout",
     "output_type": "stream",
     "text": [
      "H\n",
      "i\n",
      "r\n",
      "e\n",
      "n\n"
     ]
    }
   ],
   "source": [
    "for i in 'Hiren':\n",
    "    print(i)"
   ]
  },
  {
   "cell_type": "code",
   "execution_count": 85,
   "id": "faf05aed",
   "metadata": {},
   "outputs": [
    {
     "name": "stdout",
     "output_type": "stream",
     "text": [
      "1\n",
      "2\n",
      "3\n",
      "4\n",
      "5\n"
     ]
    }
   ],
   "source": [
    "for i in [1,2,3,4,5]:\n",
    "    print(i)"
   ]
  },
  {
   "cell_type": "code",
   "execution_count": 87,
   "id": "26973ff8",
   "metadata": {},
   "outputs": [
    {
     "name": "stdout",
     "output_type": "stream",
     "text": [
      "1\n",
      "2\n",
      "3\n",
      "4\n",
      "5\n"
     ]
    }
   ],
   "source": [
    "for i in (1,2,3,4,5):\n",
    "    print(i)"
   ]
  },
  {
   "cell_type": "code",
   "execution_count": 89,
   "id": "0d188934",
   "metadata": {},
   "outputs": [
    {
     "name": "stdout",
     "output_type": "stream",
     "text": [
      "... name ...\n",
      "... age ...\n",
      "... networth ...\n"
     ]
    }
   ],
   "source": [
    "for i in {'name':'Hiren', 'age':27,'networth':'2 trillion'}:\n",
    "    print('...',i,'...')"
   ]
  },
  {
   "cell_type": "markdown",
   "id": "e1c153c9",
   "metadata": {},
   "source": [
    "write a for loop for the town where the current population is 10,000 and it grows at 10% a year. Found the population at the end of the decade.\n"
   ]
  },
  {
   "cell_type": "code",
   "execution_count": 100,
   "id": "553b7035",
   "metadata": {},
   "outputs": [
    {
     "name": "stdout",
     "output_type": "stream",
     "text": [
      "Year :  1  Population :  10000\n",
      "Year :  2  Population :  11000.0\n",
      "Year :  3  Population :  12100.0\n",
      "Year :  4  Population :  13310.0\n",
      "Year :  5  Population :  14641.0\n",
      "Year :  6  Population :  16105.1\n",
      "Year :  7  Population :  17715.61\n",
      "Year :  8  Population :  19487.171000000002\n",
      "Year :  9  Population :  21435.888100000004\n",
      "Year :  10  Population :  23579.476910000005\n"
     ]
    }
   ],
   "source": [
    "rate = 0.1\n",
    "population  = 10000\n",
    "for i in range(1,11):\n",
    "    print('Year : ',i,' Population : ',population)\n",
    "    population = population + population * rate\n"
   ]
  },
  {
   "cell_type": "markdown",
   "id": "324ed258",
   "metadata": {},
   "source": [
    "write a code for 1/1! + 2/2! + 3/3! + .... until the number user provided"
   ]
  },
  {
   "cell_type": "code",
   "execution_count": 104,
   "id": "b4578173",
   "metadata": {},
   "outputs": [
    {
     "name": "stdout",
     "output_type": "stream",
     "text": [
      "2.7182818011463845\n"
     ]
    }
   ],
   "source": [
    "import math\n",
    "num = int(input('Enter the number :'))\n",
    "res = 0\n",
    "for i in range (1,num+1):\n",
    "    res += i / math.factorial(i)\n",
    "\n",
    "print(res)"
   ]
  },
  {
   "cell_type": "code",
   "execution_count": null,
   "id": "53469a43",
   "metadata": {},
   "outputs": [],
   "source": []
  }
 ],
 "metadata": {
  "kernelspec": {
   "display_name": "Python 3",
   "language": "python",
   "name": "python3"
  },
  "language_info": {
   "codemirror_mode": {
    "name": "ipython",
    "version": 3
   },
   "file_extension": ".py",
   "mimetype": "text/x-python",
   "name": "python",
   "nbconvert_exporter": "python",
   "pygments_lexer": "ipython3",
   "version": "3.13.3"
  }
 },
 "nbformat": 4,
 "nbformat_minor": 5
}
