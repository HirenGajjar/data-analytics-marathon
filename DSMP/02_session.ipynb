{
 "cells": [
  {
   "cell_type": "markdown",
   "id": "7fc2c69c",
   "metadata": {},
   "source": [
    "// integer division - if we do 5/2 then it is 2.5 but if we do 5//2 then it gives 2\n",
    "\n",
    "\n",
    "** power operator - 5**2 will do 5 x 5"
   ]
  },
  {
   "cell_type": "code",
   "execution_count": null,
   "id": "980125a8",
   "metadata": {},
   "outputs": [],
   "source": []
  },
  {
   "cell_type": "code",
   "execution_count": 31,
   "id": "98b8b1ad",
   "metadata": {},
   "outputs": [
    {
     "name": "stdout",
     "output_type": "stream",
     "text": [
      "11\n",
      "-1\n",
      "30\n",
      "0.8333333333333334\n",
      "0\n",
      "1\n",
      "25\n"
     ]
    }
   ],
   "source": [
    "print(5+6)\n",
    "print(5-6)\n",
    "print(5*6)\n",
    "print(5/6)\n",
    "print(5//6)\n",
    "print(5%2)\n",
    "print(5**2)"
   ]
  },
  {
   "cell_type": "code",
   "execution_count": 32,
   "id": "6f835287",
   "metadata": {},
   "outputs": [
    {
     "name": "stdout",
     "output_type": "stream",
     "text": [
      "False\n",
      "True\n",
      "True\n",
      "False\n",
      "False\n",
      "True\n"
     ]
    }
   ],
   "source": [
    "print(4 < 3)\n",
    "print(4 > 3)\n",
    "print(4 >= 3)\n",
    "print(4 <= 3)\n",
    "print(4 == 3)\n",
    "print(4 != 3)"
   ]
  },
  {
   "cell_type": "code",
   "execution_count": 13,
   "id": "68273690",
   "metadata": {},
   "outputs": [
    {
     "name": "stdout",
     "output_type": "stream",
     "text": [
      "False\n",
      "1\n",
      "0\n",
      "0\n",
      "True\n"
     ]
    }
   ],
   "source": [
    "print(True and False)\n",
    "print(1 and 1)\n",
    "print(0 and 0)\n",
    "print(0 or 0)\n",
    "print(not False)"
   ]
  },
  {
   "cell_type": "markdown",
   "id": "71d2225b",
   "metadata": {},
   "source": [
    "when we do 2 & 3 means\n",
    "binary of 2 (10) and binary of 3 (11) are getting AND operation\n",
    "\n",
    "10\n",
    "11\n",
    "-----\n",
    "10 means 2\n",
    "\n",
    "similarly for 2 | 3\n",
    "\n",
    "10\n",
    "11\n",
    "-------\n",
    "11 As 1 OR 0 is 1 and 1 OR 1 is also 1 and 11 is 3\n",
    "\n"
   ]
  },
  {
   "cell_type": "code",
   "execution_count": 20,
   "id": "cafefda2",
   "metadata": {},
   "outputs": [
    {
     "name": "stdout",
     "output_type": "stream",
     "text": [
      "2\n",
      "3\n",
      "1\n",
      "-4\n",
      "1\n",
      "16\n"
     ]
    }
   ],
   "source": [
    "print(2 & 3 )\n",
    "print(2 | 3 )\n",
    "print(2 ^ 3 )\n",
    "print(~3)\n",
    "print(4 >> 2)\n",
    "print(4 << 2)"
   ]
  },
  {
   "cell_type": "markdown",
   "id": "ca81a398",
   "metadata": {},
   "source": [
    "assignment operator is used in creating variables\n",
    "\n",
    "also we use for += or -= or *= or /="
   ]
  },
  {
   "cell_type": "markdown",
   "id": "63dffbb1",
   "metadata": {},
   "source": [
    "Membership operator in/not in"
   ]
  },
  {
   "cell_type": "code",
   "execution_count": 24,
   "id": "9ebcc990",
   "metadata": {},
   "outputs": [
    {
     "name": "stdout",
     "output_type": "stream",
     "text": [
      "True\n"
     ]
    }
   ],
   "source": [
    "print('de' in 'delhi')"
   ]
  },
  {
   "cell_type": "code",
   "execution_count": 25,
   "id": "0be5302e",
   "metadata": {},
   "outputs": [
    {
     "name": "stdout",
     "output_type": "stream",
     "text": [
      "True\n"
     ]
    }
   ],
   "source": [
    "print('D' not in 'Kalol')"
   ]
  },
  {
   "cell_type": "code",
   "execution_count": 27,
   "id": "b6598451",
   "metadata": {},
   "outputs": [
    {
     "name": "stdout",
     "output_type": "stream",
     "text": [
      "True\n"
     ]
    }
   ],
   "source": [
    "print(1 in [1,1,1,1,2,3,4,5])"
   ]
  },
  {
   "cell_type": "markdown",
   "id": "4bf6bea9",
   "metadata": {},
   "source": [
    "find the sum of 3 digits from the number given by user using operators"
   ]
  },
  {
   "cell_type": "code",
   "execution_count": 35,
   "id": "7a198ade",
   "metadata": {},
   "outputs": [
    {
     "name": "stdout",
     "output_type": "stream",
     "text": [
      "Sum of all digits is =  15\n"
     ]
    }
   ],
   "source": [
    "num = int(input('Enter the three digit number = '))\n",
    "print('Sum of all digits is = ' ,(num%10) + ((num // 10) % 10) + (((num // 10) //10 ) % 10) )\n"
   ]
  },
  {
   "cell_type": "code",
   "execution_count": null,
   "id": "ce3725bf",
   "metadata": {},
   "outputs": [],
   "source": []
  }
 ],
 "metadata": {
  "kernelspec": {
   "display_name": "Python 3",
   "language": "python",
   "name": "python3"
  },
  "language_info": {
   "codemirror_mode": {
    "name": "ipython",
    "version": 3
   },
   "file_extension": ".py",
   "mimetype": "text/x-python",
   "name": "python",
   "nbconvert_exporter": "python",
   "pygments_lexer": "ipython3",
   "version": "3.13.3"
  }
 },
 "nbformat": 4,
 "nbformat_minor": 5
}
