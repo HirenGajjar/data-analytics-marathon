{
 "cells": [
  {
   "cell_type": "code",
   "execution_count": 6,
   "id": "49315a10",
   "metadata": {},
   "outputs": [
    {
     "name": "stdout",
     "output_type": "stream",
     "text": [
      "28\n"
     ]
    }
   ],
   "source": [
    "## Line Continuation\n",
    "\n",
    "sum_of_num = 1+2+3+4+5+\\\n",
    "6+7\n",
    "\n",
    "print(sum_of_num)"
   ]
  },
  {
   "cell_type": "code",
   "execution_count": 7,
   "id": "a1f75946",
   "metadata": {},
   "outputs": [
    {
     "data": {
      "text/plain": [
       "7"
      ]
     },
     "execution_count": 7,
     "metadata": {},
     "output_type": "execute_result"
    }
   ],
   "source": [
    "a=3;b=4;c=a+b\n",
    "c"
   ]
  },
  {
   "cell_type": "code",
   "execution_count": 9,
   "id": "5036905c",
   "metadata": {},
   "outputs": [
    {
     "name": "stdout",
     "output_type": "stream",
     "text": [
      "<class 'int'>\n",
      "<class 'str'>\n"
     ]
    }
   ],
   "source": [
    "age = 22\n",
    "name = 'Hiren'\n",
    "\n",
    "print(type(age))\n",
    "print(type(name))\n"
   ]
  },
  {
   "cell_type": "code",
   "execution_count": 13,
   "id": "dfe51480",
   "metadata": {},
   "outputs": [
    {
     "data": {
      "text/plain": [
       "\" \\nLet say we haven't defined variable b yet and try to do \\n\\nfir_var = sec_var (Here we just defined fir_var but not sec_var that gives an error of name : sec_var not defined)\\n\\n\""
      ]
     },
     "execution_count": 13,
     "metadata": {},
     "output_type": "execute_result"
    }
   ],
   "source": [
    "#NAME ERROR\n",
    "''' \n",
    "Let say we haven't defined variable b yet and try to do \n",
    "\n",
    "fir_var = sec_var (Here we just defined fir_var but not sec_var that gives an error of name : sec_var not defined)\n",
    "\n",
    "'''\n",
    "\n",
    "# fir_var = sec_var\n",
    "\n",
    "\n"
   ]
  },
  {
   "cell_type": "code",
   "execution_count": 15,
   "id": "44c26167",
   "metadata": {},
   "outputs": [
    {
     "data": {
      "text/plain": [
       "100"
      ]
     },
     "execution_count": 15,
     "metadata": {},
     "output_type": "execute_result"
    }
   ],
   "source": [
    "a = 100\n",
    "a"
   ]
  },
  {
   "cell_type": "code",
   "execution_count": 18,
   "id": "07f40bb2",
   "metadata": {},
   "outputs": [
    {
     "name": "stdout",
     "output_type": "stream",
     "text": [
      "Age is  22\n"
     ]
    }
   ],
   "source": [
    "age = 22\n",
    "name = 'Hiren'\n",
    "height = 5.10\n",
    "got_job = True \n",
    "\n",
    "# age , name, height and got_job are the declaration of the variables and 32, Hiren , 5.10 and True are the assignment of value to variables\n",
    "\n",
    "print(\"Age is \",age)\n"
   ]
  },
  {
   "cell_type": "code",
   "execution_count": 19,
   "id": "901a8b78",
   "metadata": {},
   "outputs": [
    {
     "name": "stdout",
     "output_type": "stream",
     "text": [
      "12\n"
     ]
    }
   ],
   "source": [
    "_my_age = 12\n",
    "print(_my_age)"
   ]
  },
  {
   "cell_type": "code",
   "execution_count": 20,
   "id": "668ab946",
   "metadata": {},
   "outputs": [
    {
     "name": "stdout",
     "output_type": "stream",
     "text": [
      "12\n"
     ]
    }
   ],
   "source": [
    "__my_age = 22\n",
    "print(_my_age)"
   ]
  },
  {
   "cell_type": "code",
   "execution_count": 21,
   "id": "79501762",
   "metadata": {},
   "outputs": [
    {
     "name": "stdout",
     "output_type": "stream",
     "text": [
      "12\n"
     ]
    }
   ],
   "source": [
    "__nn__ = 12\n",
    "print(__nn__)"
   ]
  },
  {
   "cell_type": "code",
   "execution_count": 25,
   "id": "fef77d5b",
   "metadata": {},
   "outputs": [
    {
     "name": "stdout",
     "output_type": "stream",
     "text": [
      "<class 'int'>\n",
      "<class 'str'>\n",
      "<class 'bool'>\n",
      "<class 'float'>\n"
     ]
    }
   ],
   "source": [
    "print(type(12))\n",
    "print(type('Hire'))\n",
    "print(type(True))\n",
    "print(type(12.12))"
   ]
  },
  {
   "cell_type": "code",
   "execution_count": 27,
   "id": "70d2121f",
   "metadata": {},
   "outputs": [
    {
     "name": "stdout",
     "output_type": "stream",
     "text": [
      "<class 'int'>\n",
      "<class 'str'>\n"
     ]
    }
   ],
   "source": [
    "## Type Conversation\n",
    "\n",
    "my_age = 12 \n",
    "print(type(my_age))\n",
    "my_new_age = str(my_age)\n",
    "print(type(my_new_age))"
   ]
  },
  {
   "cell_type": "code",
   "execution_count": 30,
   "id": "57d5c39f",
   "metadata": {},
   "outputs": [
    {
     "name": "stdout",
     "output_type": "stream",
     "text": [
      "<class 'str'>\n",
      "<class 'int'>\n"
     ]
    }
   ],
   "source": [
    "age_in_str = '12'\n",
    "print(type(age_in_str))\n",
    "\n",
    "con_str_to_int = int(age_in_str)\n",
    "print(type(con_str_to_int))"
   ]
  },
  {
   "cell_type": "code",
   "execution_count": 33,
   "id": "92f6610c",
   "metadata": {},
   "outputs": [
    {
     "name": "stdout",
     "output_type": "stream",
     "text": [
      "<class 'str'>\n",
      "<class 'int'>\n"
     ]
    }
   ],
   "source": [
    "my_age_str = '22'\n",
    "print(type(my_age_str))\n",
    "my_age_con_int = int(my_age_str)\n",
    "print(type(my_age_con_int))"
   ]
  },
  {
   "cell_type": "code",
   "execution_count": null,
   "id": "77b014bd",
   "metadata": {},
   "outputs": [
    {
     "name": "stdout",
     "output_type": "stream",
     "text": [
      "<class 'str'>\n"
     ]
    },
    {
     "ename": "ValueError",
     "evalue": "invalid literal for int() with base 10: 'Hiren'",
     "output_type": "error",
     "traceback": [
      "\u001b[31m---------------------------------------------------------------------------\u001b[39m",
      "\u001b[31mValueError\u001b[39m                                Traceback (most recent call last)",
      "\u001b[36mCell\u001b[39m\u001b[36m \u001b[39m\u001b[32mIn[36]\u001b[39m\u001b[32m, line 4\u001b[39m\n\u001b[32m      1\u001b[39m aa = \u001b[33m\"\u001b[39m\u001b[33mHiren\u001b[39m\u001b[33m\"\u001b[39m\n\u001b[32m      2\u001b[39m \u001b[38;5;28mprint\u001b[39m(\u001b[38;5;28mtype\u001b[39m(aa))\n\u001b[32m----> \u001b[39m\u001b[32m4\u001b[39m bb = \u001b[38;5;28;43mint\u001b[39;49m\u001b[43m(\u001b[49m\u001b[43maa\u001b[49m\u001b[43m)\u001b[49m  \u001b[38;5;66;03m# NOT VALID OPERATION\u001b[39;00m\n\u001b[32m      5\u001b[39m \u001b[38;5;66;03m# print(bb)\u001b[39;00m\n\u001b[32m      6\u001b[39m \u001b[38;5;28mprint\u001b[39m(\u001b[38;5;28mtype\u001b[39m(\u001b[38;5;28mint\u001b[39m(aa)))\n",
      "\u001b[31mValueError\u001b[39m: invalid literal for int() with base 10: 'Hiren'"
     ]
    }
   ],
   "source": [
    "aa = \"Hiren\"\n",
    "print(type(aa))\n",
    "\n",
    "bb = int(aa)  # NOT VALID OPERATION\n",
    "# print(bb)\n",
    "# print(type(int(aa)))  # NOT VALID"
   ]
  },
  {
   "cell_type": "code",
   "execution_count": 39,
   "id": "8dfb862b",
   "metadata": {},
   "outputs": [
    {
     "name": "stdout",
     "output_type": "stream",
     "text": [
      "<class 'float'>\n",
      "<class 'int'>\n"
     ]
    },
    {
     "data": {
      "text/plain": [
       "5"
      ]
     },
     "execution_count": 39,
     "metadata": {},
     "output_type": "execute_result"
    }
   ],
   "source": [
    "hh = 5.1\n",
    "print(type(hh))\n",
    "hh_int = int(hh)\n",
    "print(type(hh_int))\n",
    "hh_int"
   ]
  },
  {
   "cell_type": "code",
   "execution_count": 44,
   "id": "f6e5e8da",
   "metadata": {},
   "outputs": [
    {
     "name": "stdout",
     "output_type": "stream",
     "text": [
      "12 <class 'int'>\n",
      "1.2 <class 'str'>\n",
      "1.2 <class 'float'>\n",
      "False <class 'bool'>\n"
     ]
    }
   ],
   "source": [
    "a = 12\n",
    "print(a, type(a))\n",
    "\n",
    "a= \"1.2\"\n",
    "print(a, type(a))\n",
    "\n",
    "a= 1.2\n",
    "print(a, type(a))\n",
    "\n",
    "a = False \n",
    "print(a , type(a))"
   ]
  },
  {
   "cell_type": "code",
   "execution_count": 48,
   "id": "9033c28d",
   "metadata": {},
   "outputs": [
    {
     "name": "stdout",
     "output_type": "stream",
     "text": [
      "<class 'str'>\n"
     ]
    }
   ],
   "source": [
    "print(type(input()))"
   ]
  },
  {
   "cell_type": "code",
   "execution_count": 52,
   "id": "11013017",
   "metadata": {},
   "outputs": [
    {
     "name": "stdout",
     "output_type": "stream",
     "text": [
      "2 <class 'int'>\n"
     ]
    }
   ],
   "source": [
    "age = int(input(\"wass yo age nigga ?\"))\n",
    "\n",
    "print(age , type(age))\n",
    "\n",
    "## Here giving string value will give an error\n"
   ]
  },
  {
   "cell_type": "code",
   "execution_count": 54,
   "id": "5ebc75e4",
   "metadata": {},
   "outputs": [
    {
     "name": "stdout",
     "output_type": "stream",
     "text": [
      "5.2\n",
      "-0.7999999999999998\n",
      "0.7333333333333334\n",
      "6.6000000000000005\n"
     ]
    }
   ],
   "source": [
    "## Calculator\n",
    "\n",
    "num1 = float(input(\"add first number :  \"))\n",
    "num2 = float(input(\"add second number :  \"))\n",
    "\n",
    "print(num1 + num2 )\n",
    "print(num1 - num2 )\n",
    "print(num1 / num2 )\n",
    "print(num1 * num2 )"
   ]
  },
  {
   "cell_type": "code",
   "execution_count": 65,
   "id": "b6eaf173",
   "metadata": {},
   "outputs": [
    {
     "name": "stdout",
     "output_type": "stream",
     "text": [
      "0\n",
      "value of  \n",
      "False\n",
      "0.0\n"
     ]
    }
   ],
   "source": [
    "a = int()\n",
    "print(a)\n",
    "\n",
    "b =str()\n",
    "print('value of ',b)\n",
    "\n",
    "c = bool()\n",
    "print(c)\n",
    "\n",
    "d = float()\n",
    "print(d )"
   ]
  },
  {
   "cell_type": "code",
   "execution_count": 67,
   "id": "d412bb48",
   "metadata": {},
   "outputs": [
    {
     "name": "stdout",
     "output_type": "stream",
     "text": [
      "True\n",
      "<class 'bool'>\n"
     ]
    }
   ],
   "source": [
    "a = 4\n",
    "b= 4\n",
    "print(a == b)\n",
    "print(type(a==b))"
   ]
  },
  {
   "cell_type": "code",
   "execution_count": null,
   "id": "4d565c21",
   "metadata": {},
   "outputs": [
    {
     "name": "stdout",
     "output_type": "stream",
     "text": [
      "Hello4\n"
     ]
    }
   ],
   "source": [
    "# common error\n",
    "# a = \"Hello\"  + 5\n",
    "# print(a)\n",
    "\n",
    "\n",
    "# fix\n",
    "a = \"Hello\" + str(4)\n",
    "\n",
    "print(a)"
   ]
  },
  {
   "cell_type": "code",
   "execution_count": 72,
   "id": "d53726e8",
   "metadata": {},
   "outputs": [
    {
     "name": "stdout",
     "output_type": "stream",
     "text": [
      "7\n",
      "1\n",
      "1.3333333333333333\n",
      "12\n",
      "1\n",
      "64\n",
      "1\n"
     ]
    }
   ],
   "source": [
    "# Arithmetic ops\n",
    "\n",
    "a = 4\n",
    "b= 3\n",
    "\n",
    "print(a+b)\n",
    "print(a-b)\n",
    "print(a/b)\n",
    "print(a*b)\n",
    "print(a//b)\n",
    "print(a**b)\n",
    "print(a%b)"
   ]
  },
  {
   "cell_type": "code",
   "execution_count": 74,
   "id": "7f7e294f",
   "metadata": {},
   "outputs": [
    {
     "name": "stdout",
     "output_type": "stream",
     "text": [
      "5.25\n",
      "5\n"
     ]
    }
   ],
   "source": [
    "print(21/4)\n",
    "print(21//4)"
   ]
  },
  {
   "cell_type": "code",
   "execution_count": 86,
   "id": "de3549c4",
   "metadata": {},
   "outputs": [
    {
     "name": "stdout",
     "output_type": "stream",
     "text": [
      "for a and b  True\n",
      "for c and d  True\n",
      "For cc and dd True\n",
      "For ff > gg False\n",
      "For gg > ff True\n",
      "For ff < gg True\n",
      "For gg < ff False\n"
     ]
    }
   ],
   "source": [
    "a = 4 \n",
    "b= 4 \n",
    "print(\"for a and b \",a==b)\n",
    "\n",
    "c = \"Hiren\"\n",
    "d = \"Hiren\"\n",
    "\n",
    "print(\"for c and d \",c==d)\n",
    "\n",
    "cc = \"Hiren\"\n",
    "dd = \"hiren\"\n",
    "print(\"For cc and dd\",cc != dd)\n",
    "\n",
    "ff = 33\n",
    "gg = 44\n",
    "print(\"For ff > gg\", ff>gg)\n",
    "print(\"For gg > ff\", gg > ff)\n",
    "\n",
    "print(\"For ff < gg\", ff<gg)\n",
    "print(\"For gg < ff\", gg < ff)\n",
    "\n"
   ]
  },
  {
   "cell_type": "code",
   "execution_count": 97,
   "id": "3ba9a29d",
   "metadata": {},
   "outputs": [
    {
     "name": "stdout",
     "output_type": "stream",
     "text": [
      "True\n",
      "False\n",
      "False\n",
      "False\n"
     ]
    }
   ],
   "source": [
    "# AND \n",
    "print(True and True)\n",
    "print(True and False)\n",
    "print(False and True)\n",
    "print(False and False)\n"
   ]
  },
  {
   "cell_type": "code",
   "execution_count": 100,
   "id": "6c251b54",
   "metadata": {},
   "outputs": [
    {
     "name": "stdout",
     "output_type": "stream",
     "text": [
      "True\n",
      "True\n",
      "True\n",
      "False\n"
     ]
    }
   ],
   "source": [
    "# OR \n",
    "print(True or True)\n",
    "print(True or False)\n",
    "print(False or True)\n",
    "print(False or False)\n"
   ]
  },
  {
   "cell_type": "code",
   "execution_count": 104,
   "id": "c51a3eba",
   "metadata": {},
   "outputs": [
    {
     "name": "stdout",
     "output_type": "stream",
     "text": [
      "False\n",
      "True\n"
     ]
    }
   ],
   "source": [
    "#OR\n",
    "print(not True)\n",
    "print(not False)"
   ]
  },
  {
   "cell_type": "code",
   "execution_count": 111,
   "id": "40a5f410",
   "metadata": {},
   "outputs": [
    {
     "name": "stdout",
     "output_type": "stream",
     "text": [
      "a is  3.0\n",
      "b is  44.0\n",
      "a + b =  47.0\n",
      "a - b =  -41.0\n",
      "a * b =  132.0\n",
      "a / b =  0.06818181818181818\n",
      "a % b =  3.0\n",
      "a ** b =  9.847709021836112e+20\n",
      "a // b =  0.0\n",
      "a and b =  44.0\n",
      "a or b =  3.0\n",
      "not a  =  False\n",
      "not b  =  False\n"
     ]
    }
   ],
   "source": [
    "a = float(input(\"Enter first value : \"))\n",
    "b = float(input(\"Enter second value : \"))\n",
    "print(\"a is \",a)\n",
    "print(\"b is \",b)\n",
    "print(\"a + b = \",a+b)\n",
    "print(\"a - b = \",a-b)\n",
    "print(\"a * b = \",a*b)\n",
    "print(\"a / b = \",a/b)\n",
    "print(\"a % b = \",a%b)\n",
    "print(\"a ** b = \",a**b)\n",
    "print(\"a // b = \",a//b)\n",
    "print(\"a and b = \",a and b)\n",
    "print(\"a or b = \",a or b)\n",
    "print(\"not a  = \",not a)\n",
    "print(\"not b  = \",not b)\n",
    "\n"
   ]
  },
  {
   "cell_type": "code",
   "execution_count": 126,
   "id": "f1f7777d",
   "metadata": {},
   "outputs": [
    {
     "name": "stdout",
     "output_type": "stream",
     "text": [
      "3\n",
      "5\n",
      "5\n",
      "3\n",
      "1\n",
      "3\n",
      "2\n",
      "1\n",
      "True\n"
     ]
    }
   ],
   "source": [
    "print(3 or 5)\n",
    "print(5 or 3)\n",
    "print(3 and 5)\n",
    "print(5 and 3)\n",
    "\n",
    "print(1 or 2 or 3)\n",
    "print(1 and 2 and 3)\n",
    "print(1 and 2 or 3)\n",
    "print(1 or 2 and 3)\n",
    "\n",
    "print(False and False or True)"
   ]
  },
  {
   "cell_type": "code",
   "execution_count": null,
   "id": "9b24ae4f",
   "metadata": {},
   "outputs": [],
   "source": [
    "# Operator preceding"
   ]
  },
  {
   "cell_type": "code",
   "execution_count": 15,
   "id": "b329aa51",
   "metadata": {},
   "outputs": [
    {
     "name": "stdout",
     "output_type": "stream",
     "text": [
      "Valid\n"
     ]
    }
   ],
   "source": [
    "age =22\n",
    "\n",
    "if age >= 18:\n",
    "    print(\"Valid\")\n",
    "else:\n",
    "    print(\"Nope\")"
   ]
  },
  {
   "cell_type": "code",
   "execution_count": 20,
   "id": "502ff2d9",
   "metadata": {},
   "outputs": [
    {
     "name": "stdout",
     "output_type": "stream",
     "text": [
      "Teen\n"
     ]
    }
   ],
   "source": [
    "age = 13\n",
    "\n",
    "if age < 10 :\n",
    "    print(\"Toddler\")\n",
    "elif age >= 10 and age <= 12 :\n",
    "    print(\"Child\")\n",
    "elif age > 12 and age <20 :\n",
    "    print(\"Teen\")\n",
    "else:\n",
    "    print(\"adult\")"
   ]
  },
  {
   "cell_type": "code",
   "execution_count": 36,
   "id": "fb63bf6e",
   "metadata": {},
   "outputs": [
    {
     "name": "stdout",
     "output_type": "stream",
     "text": [
      "3 is \n",
      "Positive and \n",
      "Odd\n"
     ]
    }
   ],
   "source": [
    "num = int(input(\"Enter the number\"))\n",
    "print(f\"{num} is \")\n",
    "if num < 0 :\n",
    "    print(\"Negative and \")\n",
    "    if num % 2 ==0:\n",
    "        print(\"even\")\n",
    "    else :\n",
    "        print(\"odd\")\n",
    "elif num == 0:\n",
    "    print(\"zero\")\n",
    "else :\n",
    "    print(\"Positive and \")\n",
    "    if num%2 == 0:\n",
    "        print(\"Even\")\n",
    "    else :\n",
    "        print(\"Odd\")"
   ]
  },
  {
   "cell_type": "code",
   "execution_count": null,
   "id": "66fc5aa4",
   "metadata": {},
   "outputs": [
    {
     "name": "stdout",
     "output_type": "stream",
     "text": [
      "Not leap year\n"
     ]
    }
   ],
   "source": [
    "year = int(input(\"Enter the year: \"))\n",
    "\n",
    "if (year % 4 == 0 and year % 100 != 0) or (year % 400 == 0):\n",
    "    print(\"Leap year\")\n",
    "else:\n",
    "    print(\"Not leap year\")\n"
   ]
  },
  {
   "cell_type": "code",
   "execution_count": null,
   "id": "d19bff77",
   "metadata": {},
   "outputs": [],
   "source": []
  }
 ],
 "metadata": {
  "kernelspec": {
   "display_name": "Python 3",
   "language": "python",
   "name": "python3"
  },
  "language_info": {
   "codemirror_mode": {
    "name": "ipython",
    "version": 3
   },
   "file_extension": ".py",
   "mimetype": "text/x-python",
   "name": "python",
   "nbconvert_exporter": "python",
   "pygments_lexer": "ipython3",
   "version": "3.13.2"
  }
 },
 "nbformat": 4,
 "nbformat_minor": 5
}
