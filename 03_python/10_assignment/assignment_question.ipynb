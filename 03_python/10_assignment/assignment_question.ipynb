{
 "cells": [
  {
   "cell_type": "markdown",
   "metadata": {},
   "source": [
    "# Lesson 1.2: Python Basics\n",
    "## Topics Covered:\n",
    "- Syntax and Semantics\n",
    "- Variables and Data Types\n",
    "- Basic Operators (Arithmetic, Comparison, Logical)\n"
   ]
  },
  {
   "cell_type": "markdown",
   "metadata": {},
   "source": [
    "## 1. Syntax and Semantics\n",
    "\n",
    "**Question 1:** Write a Python program to print \"Hello, World!\"."
   ]
  },
  {
   "cell_type": "code",
   "execution_count": 1,
   "metadata": {},
   "outputs": [
    {
     "name": "stdout",
     "output_type": "stream",
     "text": [
      "Hello World\n"
     ]
    }
   ],
   "source": [
    "# Your code here\n",
    "\n",
    "print(\"Hello World\")"
   ]
  },
  {
   "cell_type": "markdown",
   "metadata": {},
   "source": [
    "**Question 2:** Write a Python program that takes a user input and prints it."
   ]
  },
  {
   "cell_type": "code",
   "execution_count": 2,
   "metadata": {},
   "outputs": [
    {
     "name": "stdout",
     "output_type": "stream",
     "text": [
      "3\n"
     ]
    }
   ],
   "source": [
    "# Your code here\n",
    "\n",
    "print(input(\"Enter the value here :\" ))"
   ]
  },
  {
   "cell_type": "markdown",
   "metadata": {},
   "source": [
    "**Question 3:** Write a Python program to check if a number is positive, negative, or zero."
   ]
  },
  {
   "cell_type": "code",
   "execution_count": 7,
   "metadata": {},
   "outputs": [
    {
     "name": "stdout",
     "output_type": "stream",
     "text": [
      "zero\n"
     ]
    }
   ],
   "source": [
    "# Your code here\n",
    "\n",
    "num = 0\n",
    "\n",
    "if num > 0 :\n",
    "    print(\"num is positive\")\n",
    "elif num < 0:\n",
    "    print(\"num is negative\")\n",
    "else:\n",
    "    print(\"zero\")"
   ]
  },
  {
   "cell_type": "markdown",
   "metadata": {},
   "source": [
    "**Question 4:** Write a Python program to find the largest of three numbers."
   ]
  },
  {
   "cell_type": "code",
   "execution_count": 21,
   "metadata": {},
   "outputs": [
    {
     "name": "stdout",
     "output_type": "stream",
     "text": [
      "a is the largest\n"
     ]
    }
   ],
   "source": [
    "# Your code here\n",
    "\n",
    "a = 400\n",
    "b = 40\n",
    "c = 12\n",
    "\n",
    "if a > b:\n",
    "    if a > c:\n",
    "        print(\"a is the largest\")\n",
    "    elif c > a:\n",
    "        print(\"c is the largest\")\n",
    "elif b > a :\n",
    "    if b>c:\n",
    "        print(\"b is the largest\")\n",
    "    else :\n",
    "        print(\"c is the \")\n"
   ]
  },
  {
   "cell_type": "markdown",
   "metadata": {},
   "source": [
    "**Question 5:** Write a Python program to calculate the factorial of a number."
   ]
  },
  {
   "cell_type": "code",
   "execution_count": null,
   "metadata": {},
   "outputs": [],
   "source": [
    "# Your code here"
   ]
  },
  {
   "cell_type": "markdown",
   "metadata": {},
   "source": [
    "## 2. Variables and Data Types\n",
    "\n",
    "**Question 6:** Create variables of different data types: integer, float, string, and boolean. Print their values and types."
   ]
  },
  {
   "cell_type": "code",
   "execution_count": null,
   "metadata": {},
   "outputs": [],
   "source": [
    "# Your code here\n",
    "\n",
    "int_var = 3\n",
    "\n",
    "str_var = \"string variable\"\n",
    "\n",
    "bool_var = True \n",
    "\n",
    "float_var = 3.4"
   ]
  },
  {
   "cell_type": "markdown",
   "metadata": {},
   "source": [
    "**Question 7:** Write a Python program to swap the values of two variables."
   ]
  },
  {
   "cell_type": "code",
   "execution_count": 25,
   "metadata": {},
   "outputs": [
    {
     "name": "stdout",
     "output_type": "stream",
     "text": [
      "4\n",
      "3\n",
      "3 4 4\n"
     ]
    }
   ],
   "source": [
    "# Your code here \n",
    "a= 4\n",
    "b = 3\n",
    "c=a \n",
    "print(c)\n",
    "a=b\n",
    "print(b)\n",
    "b=c \n",
    "print(a,b,c)"
   ]
  },
  {
   "cell_type": "markdown",
   "metadata": {},
   "source": [
    "**Question 8:** Write a Python program to convert Celsius to Fahrenheit."
   ]
  },
  {
   "cell_type": "code",
   "execution_count": 28,
   "metadata": {},
   "outputs": [
    {
     "data": {
      "text/plain": [
       "86.0"
      ]
     },
     "execution_count": 28,
     "metadata": {},
     "output_type": "execute_result"
    }
   ],
   "source": [
    "# Your code here\n",
    "\n",
    "# F -> C : c= (f-32) * 5/9\n",
    "\n",
    "fah_val = 20\n",
    "\n",
    "cel_val = (fah_val - 32)  * 5 / 9\n",
    "cel_val\n",
    "\n",
    "# C -> F : f = (c * 9 /5) + 32\n",
    "\n",
    "ce_va = 30\n",
    "fe_va = (ce_va * (9 /5))  + 32\n",
    "fe_va"
   ]
  },
  {
   "cell_type": "markdown",
   "metadata": {},
   "source": [
    "**Question 9:** Write a Python program to concatenate two strings."
   ]
  },
  {
   "cell_type": "code",
   "execution_count": 36,
   "metadata": {},
   "outputs": [
    {
     "name": "stdout",
     "output_type": "stream",
     "text": [
      "HirenGajjar\n"
     ]
    }
   ],
   "source": [
    "# Your code here\n",
    "\n",
    "str_1 = \"Hiren\"\n",
    "str_2 = \"Gajjar\"\n",
    "print(str_1 + str_2)"
   ]
  },
  {
   "cell_type": "markdown",
   "metadata": {},
   "source": [
    "**Question 10:** Write a Python program to check if a variable is of a specific data type."
   ]
  },
  {
   "cell_type": "code",
   "execution_count": 41,
   "metadata": {},
   "outputs": [
    {
     "name": "stdout",
     "output_type": "stream",
     "text": [
      "Hiren is str\n"
     ]
    }
   ],
   "source": [
    "# Your code here\n",
    "\n",
    "var_val = \"Hiren\"\n",
    "\n",
    "if type(var_val) == int:\n",
    "    print(f\"{var_val} is int\")\n",
    "elif type(var_val) == str: \n",
    "    print(f\"{var_val} is str\")\n",
    "elif type(var_val) == bool: \n",
    "    print(f\"{var_val} is bool\")\n",
    "else:\n",
    "    print(f\"{var_val} is float\")"
   ]
  },
  {
   "cell_type": "markdown",
   "metadata": {},
   "source": [
    "## 3. Basic Operators (Arithmetic, Comparison, Logical)\n",
    "\n",
    "**Question 11:** Write a Python program to perform arithmetic operations: addition, subtraction, multiplication, and division."
   ]
  },
  {
   "cell_type": "code",
   "execution_count": 43,
   "metadata": {},
   "outputs": [
    {
     "name": "stdout",
     "output_type": "stream",
     "text": [
      "a + b =  9\n",
      "a - b =  -1\n",
      "a * b =  20\n",
      "a / b =  0.8\n"
     ]
    }
   ],
   "source": [
    "# Your code here\n",
    "a= 4\n",
    "b = 5\n",
    "\n",
    "print(\"a + b = \",a+b)\n",
    "print(\"a - b = \",a-b)\n",
    "print(\"a * b = \",a*b)\n",
    "print(\"a / b = \",a/b)"
   ]
  },
  {
   "cell_type": "markdown",
   "metadata": {},
   "source": [
    "**Question 12:** Write a Python program to demonstrate comparison operators: equal to, not equal to, greater than, less than."
   ]
  },
  {
   "cell_type": "code",
   "execution_count": 48,
   "metadata": {},
   "outputs": [
    {
     "name": "stdout",
     "output_type": "stream",
     "text": [
      "b > a True\n",
      "b != a True\n",
      "d < c True\n",
      "c==e True\n"
     ]
    }
   ],
   "source": [
    "# Your code here\n",
    "\n",
    "a = 4\n",
    "b = 45\n",
    "\n",
    "print(\"b > a\" , b>a)\n",
    "print(\"b != a\",b!=a)\n",
    "\n",
    "c =5\n",
    "d= 2\n",
    "e= 5\n",
    "print(\"d < c\",c>d)\n",
    "print(\"c==e\",c==e)"
   ]
  },
  {
   "cell_type": "markdown",
   "metadata": {},
   "source": [
    "**Question 13:** Write a Python program to demonstrate logical operators: and, or, not."
   ]
  },
  {
   "cell_type": "code",
   "execution_count": 55,
   "metadata": {},
   "outputs": [
    {
     "name": "stdout",
     "output_type": "stream",
     "text": [
      "True and True is  True\n",
      "True and False is  False\n",
      "False and True is  False\n",
      "False and False is  False\n",
      "True or True is  True\n",
      "True or False is  True\n",
      "False or True is  True\n",
      "False or False is  False\n",
      "not True False\n",
      "not False True\n"
     ]
    }
   ],
   "source": [
    "# Your code here\n",
    "\n",
    "print(\"True and True is \",True and True)\n",
    "print(\"True and False is \",True and False)\n",
    "print(\"False and True is \",False and True)\n",
    "print(\"False and False is \",False and False)\n",
    "\n",
    "print(\"True or True is \",True or True)\n",
    "print(\"True or False is \",True or False)\n",
    "print(\"False or True is \",False or True)\n",
    "print(\"False or False is \",False or False)\n",
    "\n",
    "print(\"not True\",not True)\n",
    "print(\"not False\",not False)\n"
   ]
  },
  {
   "cell_type": "markdown",
   "metadata": {},
   "source": [
    "**Question 14:** Write a Python program to calculate the square of a number."
   ]
  },
  {
   "cell_type": "code",
   "execution_count": null,
   "metadata": {},
   "outputs": [
    {
     "name": "stdout",
     "output_type": "stream",
     "text": [
      "Square of 4 =  16\n"
     ]
    }
   ],
   "source": [
    "# Your code here\n",
    "\n",
    "num = 4\n",
    "print(f\"Square of {num} =\",num*num)"
   ]
  },
  {
   "cell_type": "markdown",
   "metadata": {},
   "source": [
    "**Question 15:** Write a Python program to check if a number is even or odd."
   ]
  },
  {
   "cell_type": "code",
   "execution_count": 58,
   "metadata": {},
   "outputs": [
    {
     "name": "stdout",
     "output_type": "stream",
     "text": [
      "13 is odd\n"
     ]
    }
   ],
   "source": [
    "# Your code here\n",
    "\n",
    "num = 13\n",
    "\n",
    "if num % 2 == 0:\n",
    "    print(f\"num is even\")\n",
    "else:\n",
    "    print(f\"{num} is odd\")"
   ]
  },
  {
   "cell_type": "markdown",
   "metadata": {},
   "source": [
    "**Question 16:** Write a Python program to find the sum of the first n natural numbers."
   ]
  },
  {
   "cell_type": "code",
   "execution_count": 62,
   "metadata": {},
   "outputs": [
    {
     "name": "stdout",
     "output_type": "stream",
     "text": [
      "Sum of the first 4 natural number is 10.0\n"
     ]
    }
   ],
   "source": [
    "# Your code here\n",
    "\n",
    "num = 4\n",
    "print(f\"Sum of the first {num} natural number is\",(num * (num + 1)) / 2)"
   ]
  },
  {
   "cell_type": "markdown",
   "metadata": {},
   "source": [
    "**Question 17:** Write a Python program to check if a year is a leap year."
   ]
  },
  {
   "cell_type": "code",
   "execution_count": null,
   "metadata": {},
   "outputs": [],
   "source": [
    "# Your code here"
   ]
  },
  {
   "cell_type": "markdown",
   "metadata": {},
   "source": [
    "**Question 18:** Write a Python program to reverse a string."
   ]
  },
  {
   "cell_type": "code",
   "execution_count": null,
   "metadata": {},
   "outputs": [],
   "source": [
    "# Your code here"
   ]
  },
  {
   "cell_type": "markdown",
   "metadata": {},
   "source": [
    "**Question 19:** Write a Python program to check if a string is a palindrome."
   ]
  },
  {
   "cell_type": "code",
   "execution_count": null,
   "metadata": {},
   "outputs": [],
   "source": [
    "# Your code here"
   ]
  },
  {
   "cell_type": "markdown",
   "metadata": {},
   "source": [
    "**Question 20:** Write a Python program to sort a list of numbers in ascending order."
   ]
  },
  {
   "cell_type": "code",
   "execution_count": null,
   "metadata": {},
   "outputs": [],
   "source": [
    "# Your code here"
   ]
  }
 ],
 "metadata": {
  "kernelspec": {
   "display_name": "Python 3",
   "language": "python",
   "name": "python3"
  },
  "language_info": {
   "codemirror_mode": {
    "name": "ipython",
    "version": 3
   },
   "file_extension": ".py",
   "mimetype": "text/x-python",
   "name": "python",
   "nbconvert_exporter": "python",
   "pygments_lexer": "ipython3",
   "version": "3.13.2"
  }
 },
 "nbformat": 4,
 "nbformat_minor": 4
}
